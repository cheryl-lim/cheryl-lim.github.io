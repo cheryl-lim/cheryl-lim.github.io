{
 "cells": [
  {
   "cell_type": "markdown",
   "metadata": {},
   "source": [
    "# Model Selection\n",
    "\n",
    "## Objective - To predict 4D results with the best model"
   ]
  },
  {
   "cell_type": "code",
   "execution_count": 1,
   "metadata": {},
   "outputs": [],
   "source": [
    "# Import the required libraries\n",
    "\n",
    "import numpy as np\n",
    "import pandas as pd\n",
    "import matplotlib.pyplot as plt\n",
    "import seaborn as sns\n",
    "\n",
    "from sklearn.preprocessing import LabelEncoder\n",
    "from sklearn.model_selection import train_test_split, cross_val_score\n",
    "from sklearn.linear_model import LogisticRegression\n",
    "from sklearn.ensemble import RandomForestClassifier\n",
    "from sklearn.neural_network import MLPClassifier\n",
    "from sklearn.metrics import confusion_matrix , classification_report, f1_score,\\\n",
    "                            accuracy_score, precision_score, recall_score, f1_score\n",
    "from sklearn.model_selection import GridSearchCV\n",
    "\n",
    "SEED = 0"
   ]
  },
  {
   "cell_type": "markdown",
   "metadata": {},
   "source": [
    "### Step 1: Load in the required data"
   ]
  },
  {
   "cell_type": "code",
   "execution_count": 2,
   "metadata": {},
   "outputs": [
    {
     "data": {
      "text/html": [
       "<div>\n",
       "<style scoped>\n",
       "    .dataframe tbody tr th:only-of-type {\n",
       "        vertical-align: middle;\n",
       "    }\n",
       "\n",
       "    .dataframe tbody tr th {\n",
       "        vertical-align: top;\n",
       "    }\n",
       "\n",
       "    .dataframe thead th {\n",
       "        text-align: right;\n",
       "    }\n",
       "</style>\n",
       "<table border=\"1\" class=\"dataframe\">\n",
       "  <thead>\n",
       "    <tr style=\"text-align: right;\">\n",
       "      <th></th>\n",
       "      <th>day</th>\n",
       "      <th>number</th>\n",
       "      <th>prize</th>\n",
       "    </tr>\n",
       "  </thead>\n",
       "  <tbody>\n",
       "    <tr>\n",
       "      <th>0</th>\n",
       "      <td>Wed, 24 Jun 2020</td>\n",
       "      <td>0</td>\n",
       "      <td>Consolation Prize</td>\n",
       "    </tr>\n",
       "    <tr>\n",
       "      <th>1</th>\n",
       "      <td>Sun, 21 Feb 2016</td>\n",
       "      <td>0</td>\n",
       "      <td>Consolation Prize</td>\n",
       "    </tr>\n",
       "    <tr>\n",
       "      <th>2</th>\n",
       "      <td>Wed, 20 Jan 2016</td>\n",
       "      <td>0</td>\n",
       "      <td>Consolation Prize</td>\n",
       "    </tr>\n",
       "    <tr>\n",
       "      <th>3</th>\n",
       "      <td>Sun, 05 Oct 2014</td>\n",
       "      <td>0</td>\n",
       "      <td>First Prize</td>\n",
       "    </tr>\n",
       "    <tr>\n",
       "      <th>4</th>\n",
       "      <td>Sat, 06 Sep 2014</td>\n",
       "      <td>0</td>\n",
       "      <td>Second Prize</td>\n",
       "    </tr>\n",
       "    <tr>\n",
       "      <th>5</th>\n",
       "      <td>Sat, 26 Oct 2013</td>\n",
       "      <td>0</td>\n",
       "      <td>Starter Prize</td>\n",
       "    </tr>\n",
       "    <tr>\n",
       "      <th>6</th>\n",
       "      <td>Sun, 29 Jan 2012</td>\n",
       "      <td>0</td>\n",
       "      <td>Starter Prize</td>\n",
       "    </tr>\n",
       "    <tr>\n",
       "      <th>7</th>\n",
       "      <td>Sat, 06 Aug 2011</td>\n",
       "      <td>0</td>\n",
       "      <td>Consolation Prize</td>\n",
       "    </tr>\n",
       "    <tr>\n",
       "      <th>8</th>\n",
       "      <td>Sat, 13 Jun 2009</td>\n",
       "      <td>0</td>\n",
       "      <td>Consolation Prize</td>\n",
       "    </tr>\n",
       "    <tr>\n",
       "      <th>9</th>\n",
       "      <td>Sun, 14 May 2006</td>\n",
       "      <td>0</td>\n",
       "      <td>Starter Prize</td>\n",
       "    </tr>\n",
       "  </tbody>\n",
       "</table>\n",
       "</div>"
      ],
      "text/plain": [
       "                day  number              prize\n",
       "0  Wed, 24 Jun 2020       0  Consolation Prize\n",
       "1  Sun, 21 Feb 2016       0  Consolation Prize\n",
       "2  Wed, 20 Jan 2016       0  Consolation Prize\n",
       "3  Sun, 05 Oct 2014       0        First Prize\n",
       "4  Sat, 06 Sep 2014       0       Second Prize\n",
       "5  Sat, 26 Oct 2013       0      Starter Prize\n",
       "6  Sun, 29 Jan 2012       0      Starter Prize\n",
       "7  Sat, 06 Aug 2011       0  Consolation Prize\n",
       "8  Sat, 13 Jun 2009       0  Consolation Prize\n",
       "9  Sun, 14 May 2006       0      Starter Prize"
      ]
     },
     "execution_count": 2,
     "metadata": {},
     "output_type": "execute_result"
    }
   ],
   "source": [
    "# Concatenate 3 CSV files from web scraping\n",
    "\n",
    "df = pd.concat(\n",
    "    map(pd.read_csv, ['webscraping1.csv', 'webscraping2.csv', 'webscraping3.csv']), ignore_index=True)\n",
    "df.head(10)"
   ]
  },
  {
   "cell_type": "markdown",
   "metadata": {},
   "source": [
    "### Step 2: Data Pre-processing and Exploratory Data Analysis"
   ]
  },
  {
   "cell_type": "code",
   "execution_count": 3,
   "metadata": {},
   "outputs": [
    {
     "name": "stdout",
     "output_type": "stream",
     "text": [
      "<class 'pandas.core.frame.DataFrame'>\n",
      "RangeIndex: 110339 entries, 0 to 110338\n",
      "Data columns (total 3 columns):\n",
      " #   Column  Non-Null Count   Dtype \n",
      "---  ------  --------------   ----- \n",
      " 0   day     110339 non-null  object\n",
      " 1   number  110339 non-null  int64 \n",
      " 2   prize   110339 non-null  object\n",
      "dtypes: int64(1), object(2)\n",
      "memory usage: 2.5+ MB\n"
     ]
    }
   ],
   "source": [
    "df.info()"
   ]
  },
  {
   "cell_type": "code",
   "execution_count": 4,
   "metadata": {},
   "outputs": [
    {
     "data": {
      "text/html": [
       "<div>\n",
       "<style scoped>\n",
       "    .dataframe tbody tr th:only-of-type {\n",
       "        vertical-align: middle;\n",
       "    }\n",
       "\n",
       "    .dataframe tbody tr th {\n",
       "        vertical-align: top;\n",
       "    }\n",
       "\n",
       "    .dataframe thead th {\n",
       "        text-align: right;\n",
       "    }\n",
       "</style>\n",
       "<table border=\"1\" class=\"dataframe\">\n",
       "  <thead>\n",
       "    <tr style=\"text-align: right;\">\n",
       "      <th></th>\n",
       "      <th>day</th>\n",
       "      <th>number</th>\n",
       "      <th>prize</th>\n",
       "    </tr>\n",
       "  </thead>\n",
       "  <tbody>\n",
       "    <tr>\n",
       "      <th>0</th>\n",
       "      <td>Wed, 24 Jun 2020</td>\n",
       "      <td>0000</td>\n",
       "      <td>Consolation Prize</td>\n",
       "    </tr>\n",
       "    <tr>\n",
       "      <th>1</th>\n",
       "      <td>Sun, 21 Feb 2016</td>\n",
       "      <td>0000</td>\n",
       "      <td>Consolation Prize</td>\n",
       "    </tr>\n",
       "    <tr>\n",
       "      <th>2</th>\n",
       "      <td>Wed, 20 Jan 2016</td>\n",
       "      <td>0000</td>\n",
       "      <td>Consolation Prize</td>\n",
       "    </tr>\n",
       "    <tr>\n",
       "      <th>3</th>\n",
       "      <td>Sun, 05 Oct 2014</td>\n",
       "      <td>0000</td>\n",
       "      <td>First Prize</td>\n",
       "    </tr>\n",
       "    <tr>\n",
       "      <th>4</th>\n",
       "      <td>Sat, 06 Sep 2014</td>\n",
       "      <td>0000</td>\n",
       "      <td>Second Prize</td>\n",
       "    </tr>\n",
       "    <tr>\n",
       "      <th>5</th>\n",
       "      <td>Sat, 26 Oct 2013</td>\n",
       "      <td>0000</td>\n",
       "      <td>Starter Prize</td>\n",
       "    </tr>\n",
       "    <tr>\n",
       "      <th>6</th>\n",
       "      <td>Sun, 29 Jan 2012</td>\n",
       "      <td>0000</td>\n",
       "      <td>Starter Prize</td>\n",
       "    </tr>\n",
       "    <tr>\n",
       "      <th>7</th>\n",
       "      <td>Sat, 06 Aug 2011</td>\n",
       "      <td>0000</td>\n",
       "      <td>Consolation Prize</td>\n",
       "    </tr>\n",
       "    <tr>\n",
       "      <th>8</th>\n",
       "      <td>Sat, 13 Jun 2009</td>\n",
       "      <td>0000</td>\n",
       "      <td>Consolation Prize</td>\n",
       "    </tr>\n",
       "    <tr>\n",
       "      <th>9</th>\n",
       "      <td>Sun, 14 May 2006</td>\n",
       "      <td>0000</td>\n",
       "      <td>Starter Prize</td>\n",
       "    </tr>\n",
       "  </tbody>\n",
       "</table>\n",
       "</div>"
      ],
      "text/plain": [
       "                day number              prize\n",
       "0  Wed, 24 Jun 2020   0000  Consolation Prize\n",
       "1  Sun, 21 Feb 2016   0000  Consolation Prize\n",
       "2  Wed, 20 Jan 2016   0000  Consolation Prize\n",
       "3  Sun, 05 Oct 2014   0000        First Prize\n",
       "4  Sat, 06 Sep 2014   0000       Second Prize\n",
       "5  Sat, 26 Oct 2013   0000      Starter Prize\n",
       "6  Sun, 29 Jan 2012   0000      Starter Prize\n",
       "7  Sat, 06 Aug 2011   0000  Consolation Prize\n",
       "8  Sat, 13 Jun 2009   0000  Consolation Prize\n",
       "9  Sun, 14 May 2006   0000      Starter Prize"
      ]
     },
     "execution_count": 4,
     "metadata": {},
     "output_type": "execute_result"
    }
   ],
   "source": [
    "# Convert the 'number' column from numeric to fixed length string type (i.e. 4 digits)\n",
    "\n",
    "df['number'] = df['number'].map('{0:04d}'.format)\n",
    "df.head(10)"
   ]
  },
  {
   "cell_type": "code",
   "execution_count": 5,
   "metadata": {},
   "outputs": [
    {
     "data": {
      "text/plain": [
       "10000"
      ]
     },
     "execution_count": 5,
     "metadata": {},
     "output_type": "execute_result"
    }
   ],
   "source": [
    "# Confirm 10,000 numbers in total\n",
    "\n",
    "df['number'].nunique()"
   ]
  },
  {
   "cell_type": "code",
   "execution_count": 6,
   "metadata": {},
   "outputs": [
    {
     "data": {
      "text/html": [
       "<div>\n",
       "<style scoped>\n",
       "    .dataframe tbody tr th:only-of-type {\n",
       "        vertical-align: middle;\n",
       "    }\n",
       "\n",
       "    .dataframe tbody tr th {\n",
       "        vertical-align: top;\n",
       "    }\n",
       "\n",
       "    .dataframe thead th {\n",
       "        text-align: right;\n",
       "    }\n",
       "</style>\n",
       "<table border=\"1\" class=\"dataframe\">\n",
       "  <thead>\n",
       "    <tr style=\"text-align: right;\">\n",
       "      <th></th>\n",
       "      <th>day</th>\n",
       "      <th>number</th>\n",
       "      <th>prize</th>\n",
       "      <th>day_of_week</th>\n",
       "      <th>date</th>\n",
       "    </tr>\n",
       "  </thead>\n",
       "  <tbody>\n",
       "    <tr>\n",
       "      <th>0</th>\n",
       "      <td>Wed, 24 Jun 2020</td>\n",
       "      <td>0000</td>\n",
       "      <td>Consolation Prize</td>\n",
       "      <td>Wed</td>\n",
       "      <td>24 Jun 2020</td>\n",
       "    </tr>\n",
       "    <tr>\n",
       "      <th>1</th>\n",
       "      <td>Sun, 21 Feb 2016</td>\n",
       "      <td>0000</td>\n",
       "      <td>Consolation Prize</td>\n",
       "      <td>Sun</td>\n",
       "      <td>21 Feb 2016</td>\n",
       "    </tr>\n",
       "    <tr>\n",
       "      <th>2</th>\n",
       "      <td>Wed, 20 Jan 2016</td>\n",
       "      <td>0000</td>\n",
       "      <td>Consolation Prize</td>\n",
       "      <td>Wed</td>\n",
       "      <td>20 Jan 2016</td>\n",
       "    </tr>\n",
       "    <tr>\n",
       "      <th>3</th>\n",
       "      <td>Sun, 05 Oct 2014</td>\n",
       "      <td>0000</td>\n",
       "      <td>First Prize</td>\n",
       "      <td>Sun</td>\n",
       "      <td>05 Oct 2014</td>\n",
       "    </tr>\n",
       "    <tr>\n",
       "      <th>4</th>\n",
       "      <td>Sat, 06 Sep 2014</td>\n",
       "      <td>0000</td>\n",
       "      <td>Second Prize</td>\n",
       "      <td>Sat</td>\n",
       "      <td>06 Sep 2014</td>\n",
       "    </tr>\n",
       "    <tr>\n",
       "      <th>5</th>\n",
       "      <td>Sat, 26 Oct 2013</td>\n",
       "      <td>0000</td>\n",
       "      <td>Starter Prize</td>\n",
       "      <td>Sat</td>\n",
       "      <td>26 Oct 2013</td>\n",
       "    </tr>\n",
       "    <tr>\n",
       "      <th>6</th>\n",
       "      <td>Sun, 29 Jan 2012</td>\n",
       "      <td>0000</td>\n",
       "      <td>Starter Prize</td>\n",
       "      <td>Sun</td>\n",
       "      <td>29 Jan 2012</td>\n",
       "    </tr>\n",
       "    <tr>\n",
       "      <th>7</th>\n",
       "      <td>Sat, 06 Aug 2011</td>\n",
       "      <td>0000</td>\n",
       "      <td>Consolation Prize</td>\n",
       "      <td>Sat</td>\n",
       "      <td>06 Aug 2011</td>\n",
       "    </tr>\n",
       "    <tr>\n",
       "      <th>8</th>\n",
       "      <td>Sat, 13 Jun 2009</td>\n",
       "      <td>0000</td>\n",
       "      <td>Consolation Prize</td>\n",
       "      <td>Sat</td>\n",
       "      <td>13 Jun 2009</td>\n",
       "    </tr>\n",
       "    <tr>\n",
       "      <th>9</th>\n",
       "      <td>Sun, 14 May 2006</td>\n",
       "      <td>0000</td>\n",
       "      <td>Starter Prize</td>\n",
       "      <td>Sun</td>\n",
       "      <td>14 May 2006</td>\n",
       "    </tr>\n",
       "  </tbody>\n",
       "</table>\n",
       "</div>"
      ],
      "text/plain": [
       "                day number              prize day_of_week         date\n",
       "0  Wed, 24 Jun 2020   0000  Consolation Prize         Wed  24 Jun 2020\n",
       "1  Sun, 21 Feb 2016   0000  Consolation Prize         Sun  21 Feb 2016\n",
       "2  Wed, 20 Jan 2016   0000  Consolation Prize         Wed  20 Jan 2016\n",
       "3  Sun, 05 Oct 2014   0000        First Prize         Sun  05 Oct 2014\n",
       "4  Sat, 06 Sep 2014   0000       Second Prize         Sat  06 Sep 2014\n",
       "5  Sat, 26 Oct 2013   0000      Starter Prize         Sat  26 Oct 2013\n",
       "6  Sun, 29 Jan 2012   0000      Starter Prize         Sun  29 Jan 2012\n",
       "7  Sat, 06 Aug 2011   0000  Consolation Prize         Sat  06 Aug 2011\n",
       "8  Sat, 13 Jun 2009   0000  Consolation Prize         Sat  13 Jun 2009\n",
       "9  Sun, 14 May 2006   0000      Starter Prize         Sun  14 May 2006"
      ]
     },
     "execution_count": 6,
     "metadata": {},
     "output_type": "execute_result"
    }
   ],
   "source": [
    "# Split the 'day' column as 'day of week' and 'date' columns\n",
    "\n",
    "df[['day_of_week', 'date']] = df['day'].str.split(', ', expand=True)\n",
    "df.head(10)"
   ]
  },
  {
   "cell_type": "code",
   "execution_count": 7,
   "metadata": {},
   "outputs": [
    {
     "data": {
      "text/html": [
       "<div>\n",
       "<style scoped>\n",
       "    .dataframe tbody tr th:only-of-type {\n",
       "        vertical-align: middle;\n",
       "    }\n",
       "\n",
       "    .dataframe tbody tr th {\n",
       "        vertical-align: top;\n",
       "    }\n",
       "\n",
       "    .dataframe thead th {\n",
       "        text-align: right;\n",
       "    }\n",
       "</style>\n",
       "<table border=\"1\" class=\"dataframe\">\n",
       "  <thead>\n",
       "    <tr style=\"text-align: right;\">\n",
       "      <th></th>\n",
       "      <th>day</th>\n",
       "      <th>number</th>\n",
       "      <th>prize</th>\n",
       "      <th>day_of_week</th>\n",
       "      <th>date</th>\n",
       "    </tr>\n",
       "  </thead>\n",
       "  <tbody>\n",
       "    <tr>\n",
       "      <th>0</th>\n",
       "      <td>Wed, 24 Jun 2020</td>\n",
       "      <td>0000</td>\n",
       "      <td>Consolation Prize</td>\n",
       "      <td>Wed</td>\n",
       "      <td>2020-06-24</td>\n",
       "    </tr>\n",
       "    <tr>\n",
       "      <th>1</th>\n",
       "      <td>Sun, 21 Feb 2016</td>\n",
       "      <td>0000</td>\n",
       "      <td>Consolation Prize</td>\n",
       "      <td>Sun</td>\n",
       "      <td>2016-02-21</td>\n",
       "    </tr>\n",
       "    <tr>\n",
       "      <th>2</th>\n",
       "      <td>Wed, 20 Jan 2016</td>\n",
       "      <td>0000</td>\n",
       "      <td>Consolation Prize</td>\n",
       "      <td>Wed</td>\n",
       "      <td>2016-01-20</td>\n",
       "    </tr>\n",
       "    <tr>\n",
       "      <th>3</th>\n",
       "      <td>Sun, 05 Oct 2014</td>\n",
       "      <td>0000</td>\n",
       "      <td>First Prize</td>\n",
       "      <td>Sun</td>\n",
       "      <td>2014-10-05</td>\n",
       "    </tr>\n",
       "    <tr>\n",
       "      <th>4</th>\n",
       "      <td>Sat, 06 Sep 2014</td>\n",
       "      <td>0000</td>\n",
       "      <td>Second Prize</td>\n",
       "      <td>Sat</td>\n",
       "      <td>2014-09-06</td>\n",
       "    </tr>\n",
       "    <tr>\n",
       "      <th>5</th>\n",
       "      <td>Sat, 26 Oct 2013</td>\n",
       "      <td>0000</td>\n",
       "      <td>Starter Prize</td>\n",
       "      <td>Sat</td>\n",
       "      <td>2013-10-26</td>\n",
       "    </tr>\n",
       "    <tr>\n",
       "      <th>6</th>\n",
       "      <td>Sun, 29 Jan 2012</td>\n",
       "      <td>0000</td>\n",
       "      <td>Starter Prize</td>\n",
       "      <td>Sun</td>\n",
       "      <td>2012-01-29</td>\n",
       "    </tr>\n",
       "    <tr>\n",
       "      <th>7</th>\n",
       "      <td>Sat, 06 Aug 2011</td>\n",
       "      <td>0000</td>\n",
       "      <td>Consolation Prize</td>\n",
       "      <td>Sat</td>\n",
       "      <td>2011-08-06</td>\n",
       "    </tr>\n",
       "    <tr>\n",
       "      <th>8</th>\n",
       "      <td>Sat, 13 Jun 2009</td>\n",
       "      <td>0000</td>\n",
       "      <td>Consolation Prize</td>\n",
       "      <td>Sat</td>\n",
       "      <td>2009-06-13</td>\n",
       "    </tr>\n",
       "    <tr>\n",
       "      <th>9</th>\n",
       "      <td>Sun, 14 May 2006</td>\n",
       "      <td>0000</td>\n",
       "      <td>Starter Prize</td>\n",
       "      <td>Sun</td>\n",
       "      <td>2006-05-14</td>\n",
       "    </tr>\n",
       "  </tbody>\n",
       "</table>\n",
       "</div>"
      ],
      "text/plain": [
       "                day number              prize day_of_week       date\n",
       "0  Wed, 24 Jun 2020   0000  Consolation Prize         Wed 2020-06-24\n",
       "1  Sun, 21 Feb 2016   0000  Consolation Prize         Sun 2016-02-21\n",
       "2  Wed, 20 Jan 2016   0000  Consolation Prize         Wed 2016-01-20\n",
       "3  Sun, 05 Oct 2014   0000        First Prize         Sun 2014-10-05\n",
       "4  Sat, 06 Sep 2014   0000       Second Prize         Sat 2014-09-06\n",
       "5  Sat, 26 Oct 2013   0000      Starter Prize         Sat 2013-10-26\n",
       "6  Sun, 29 Jan 2012   0000      Starter Prize         Sun 2012-01-29\n",
       "7  Sat, 06 Aug 2011   0000  Consolation Prize         Sat 2011-08-06\n",
       "8  Sat, 13 Jun 2009   0000  Consolation Prize         Sat 2009-06-13\n",
       "9  Sun, 14 May 2006   0000      Starter Prize         Sun 2006-05-14"
      ]
     },
     "execution_count": 7,
     "metadata": {},
     "output_type": "execute_result"
    }
   ],
   "source": [
    "# Convert the 'date' column to datetime\n",
    "\n",
    "df['date'] = pd.to_datetime(df['date'])\n",
    "df.head(10)"
   ]
  },
  {
   "cell_type": "code",
   "execution_count": 8,
   "metadata": {},
   "outputs": [
    {
     "data": {
      "text/plain": [
       "day            110322\n",
       "number         110322\n",
       "prize          110322\n",
       "day_of_week    110322\n",
       "date           110322\n",
       "dtype: int64"
      ]
     },
     "execution_count": 8,
     "metadata": {},
     "output_type": "execute_result"
    }
   ],
   "source": [
    "# Filter the 'date' column to remove data on 2021-6-6 due to partial scraping on that day\n",
    "\n",
    "df = df[(df['date'] < '2021-6-6')]\n",
    "df.count()"
   ]
  },
  {
   "cell_type": "code",
   "execution_count": 9,
   "metadata": {},
   "outputs": [
    {
     "data": {
      "text/plain": [
       "Sat    41783\n",
       "Sun    41744\n",
       "Wed    26772\n",
       "Thu       23\n",
       "Name: day_of_week, dtype: int64"
      ]
     },
     "execution_count": 9,
     "metadata": {},
     "output_type": "execute_result"
    }
   ],
   "source": [
    "# Return counts of unique days of week\n",
    "# Only 1 draw on Thu, 25 Jan 2001, which replaced the draw on Wed, 24 Jan 2001\n",
    "# Less draws on Wed (first draw in 1993) than Sat and Sun (first draws in 1986)\n",
    "\n",
    "df['day_of_week'].value_counts()"
   ]
  },
  {
   "cell_type": "code",
   "execution_count": 10,
   "metadata": {},
   "outputs": [
    {
     "data": {
      "text/plain": [
       "Sat    41783\n",
       "Sun    41744\n",
       "Wed    26795\n",
       "Name: day_of_week, dtype: int64"
      ]
     },
     "execution_count": 10,
     "metadata": {},
     "output_type": "execute_result"
    }
   ],
   "source": [
    "# Replace 'Thu' with 'Wed'\n",
    "\n",
    "df['day_of_week'].replace({'Thu': 'Wed'}, inplace=True)\n",
    "df['day_of_week'].value_counts()"
   ]
  },
  {
   "cell_type": "code",
   "execution_count": 11,
   "metadata": {},
   "outputs": [
    {
     "data": {
      "text/html": [
       "<div>\n",
       "<style scoped>\n",
       "    .dataframe tbody tr th:only-of-type {\n",
       "        vertical-align: middle;\n",
       "    }\n",
       "\n",
       "    .dataframe tbody tr th {\n",
       "        vertical-align: top;\n",
       "    }\n",
       "\n",
       "    .dataframe thead th {\n",
       "        text-align: right;\n",
       "    }\n",
       "</style>\n",
       "<table border=\"1\" class=\"dataframe\">\n",
       "  <thead>\n",
       "    <tr style=\"text-align: right;\">\n",
       "      <th></th>\n",
       "      <th>day</th>\n",
       "      <th>number</th>\n",
       "      <th>prize</th>\n",
       "      <th>day_of_week</th>\n",
       "      <th>date</th>\n",
       "      <th>month</th>\n",
       "    </tr>\n",
       "  </thead>\n",
       "  <tbody>\n",
       "    <tr>\n",
       "      <th>0</th>\n",
       "      <td>Wed, 24 Jun 2020</td>\n",
       "      <td>0000</td>\n",
       "      <td>Consolation Prize</td>\n",
       "      <td>Wed</td>\n",
       "      <td>2020-06-24</td>\n",
       "      <td>Jun</td>\n",
       "    </tr>\n",
       "    <tr>\n",
       "      <th>1</th>\n",
       "      <td>Sun, 21 Feb 2016</td>\n",
       "      <td>0000</td>\n",
       "      <td>Consolation Prize</td>\n",
       "      <td>Sun</td>\n",
       "      <td>2016-02-21</td>\n",
       "      <td>Feb</td>\n",
       "    </tr>\n",
       "    <tr>\n",
       "      <th>2</th>\n",
       "      <td>Wed, 20 Jan 2016</td>\n",
       "      <td>0000</td>\n",
       "      <td>Consolation Prize</td>\n",
       "      <td>Wed</td>\n",
       "      <td>2016-01-20</td>\n",
       "      <td>Jan</td>\n",
       "    </tr>\n",
       "    <tr>\n",
       "      <th>3</th>\n",
       "      <td>Sun, 05 Oct 2014</td>\n",
       "      <td>0000</td>\n",
       "      <td>First Prize</td>\n",
       "      <td>Sun</td>\n",
       "      <td>2014-10-05</td>\n",
       "      <td>Oct</td>\n",
       "    </tr>\n",
       "    <tr>\n",
       "      <th>4</th>\n",
       "      <td>Sat, 06 Sep 2014</td>\n",
       "      <td>0000</td>\n",
       "      <td>Second Prize</td>\n",
       "      <td>Sat</td>\n",
       "      <td>2014-09-06</td>\n",
       "      <td>Sep</td>\n",
       "    </tr>\n",
       "    <tr>\n",
       "      <th>5</th>\n",
       "      <td>Sat, 26 Oct 2013</td>\n",
       "      <td>0000</td>\n",
       "      <td>Starter Prize</td>\n",
       "      <td>Sat</td>\n",
       "      <td>2013-10-26</td>\n",
       "      <td>Oct</td>\n",
       "    </tr>\n",
       "    <tr>\n",
       "      <th>6</th>\n",
       "      <td>Sun, 29 Jan 2012</td>\n",
       "      <td>0000</td>\n",
       "      <td>Starter Prize</td>\n",
       "      <td>Sun</td>\n",
       "      <td>2012-01-29</td>\n",
       "      <td>Jan</td>\n",
       "    </tr>\n",
       "    <tr>\n",
       "      <th>7</th>\n",
       "      <td>Sat, 06 Aug 2011</td>\n",
       "      <td>0000</td>\n",
       "      <td>Consolation Prize</td>\n",
       "      <td>Sat</td>\n",
       "      <td>2011-08-06</td>\n",
       "      <td>Aug</td>\n",
       "    </tr>\n",
       "    <tr>\n",
       "      <th>8</th>\n",
       "      <td>Sat, 13 Jun 2009</td>\n",
       "      <td>0000</td>\n",
       "      <td>Consolation Prize</td>\n",
       "      <td>Sat</td>\n",
       "      <td>2009-06-13</td>\n",
       "      <td>Jun</td>\n",
       "    </tr>\n",
       "    <tr>\n",
       "      <th>9</th>\n",
       "      <td>Sun, 14 May 2006</td>\n",
       "      <td>0000</td>\n",
       "      <td>Starter Prize</td>\n",
       "      <td>Sun</td>\n",
       "      <td>2006-05-14</td>\n",
       "      <td>May</td>\n",
       "    </tr>\n",
       "  </tbody>\n",
       "</table>\n",
       "</div>"
      ],
      "text/plain": [
       "                day number              prize day_of_week       date month\n",
       "0  Wed, 24 Jun 2020   0000  Consolation Prize         Wed 2020-06-24   Jun\n",
       "1  Sun, 21 Feb 2016   0000  Consolation Prize         Sun 2016-02-21   Feb\n",
       "2  Wed, 20 Jan 2016   0000  Consolation Prize         Wed 2016-01-20   Jan\n",
       "3  Sun, 05 Oct 2014   0000        First Prize         Sun 2014-10-05   Oct\n",
       "4  Sat, 06 Sep 2014   0000       Second Prize         Sat 2014-09-06   Sep\n",
       "5  Sat, 26 Oct 2013   0000      Starter Prize         Sat 2013-10-26   Oct\n",
       "6  Sun, 29 Jan 2012   0000      Starter Prize         Sun 2012-01-29   Jan\n",
       "7  Sat, 06 Aug 2011   0000  Consolation Prize         Sat 2011-08-06   Aug\n",
       "8  Sat, 13 Jun 2009   0000  Consolation Prize         Sat 2009-06-13   Jun\n",
       "9  Sun, 14 May 2006   0000      Starter Prize         Sun 2006-05-14   May"
      ]
     },
     "execution_count": 11,
     "metadata": {},
     "output_type": "execute_result"
    }
   ],
   "source": [
    "# Convert the 'date' column to the month abbreviated name format under 'month' column\n",
    "\n",
    "df['month'] = df['date'].dt.strftime('%b')\n",
    "df.head(10)"
   ]
  },
  {
   "cell_type": "code",
   "execution_count": 12,
   "metadata": {},
   "outputs": [
    {
     "data": {
      "text/html": [
       "<div>\n",
       "<style scoped>\n",
       "    .dataframe tbody tr th:only-of-type {\n",
       "        vertical-align: middle;\n",
       "    }\n",
       "\n",
       "    .dataframe tbody tr th {\n",
       "        vertical-align: top;\n",
       "    }\n",
       "\n",
       "    .dataframe thead th {\n",
       "        text-align: right;\n",
       "    }\n",
       "</style>\n",
       "<table border=\"1\" class=\"dataframe\">\n",
       "  <thead>\n",
       "    <tr style=\"text-align: right;\">\n",
       "      <th></th>\n",
       "      <th>number</th>\n",
       "      <th>prize</th>\n",
       "      <th>day_of_week</th>\n",
       "      <th>month</th>\n",
       "    </tr>\n",
       "  </thead>\n",
       "  <tbody>\n",
       "    <tr>\n",
       "      <th>0</th>\n",
       "      <td>0000</td>\n",
       "      <td>Consolation Prize</td>\n",
       "      <td>Wed</td>\n",
       "      <td>Jun</td>\n",
       "    </tr>\n",
       "    <tr>\n",
       "      <th>1</th>\n",
       "      <td>0000</td>\n",
       "      <td>Consolation Prize</td>\n",
       "      <td>Sun</td>\n",
       "      <td>Feb</td>\n",
       "    </tr>\n",
       "    <tr>\n",
       "      <th>2</th>\n",
       "      <td>0000</td>\n",
       "      <td>Consolation Prize</td>\n",
       "      <td>Wed</td>\n",
       "      <td>Jan</td>\n",
       "    </tr>\n",
       "    <tr>\n",
       "      <th>3</th>\n",
       "      <td>0000</td>\n",
       "      <td>First Prize</td>\n",
       "      <td>Sun</td>\n",
       "      <td>Oct</td>\n",
       "    </tr>\n",
       "    <tr>\n",
       "      <th>4</th>\n",
       "      <td>0000</td>\n",
       "      <td>Second Prize</td>\n",
       "      <td>Sat</td>\n",
       "      <td>Sep</td>\n",
       "    </tr>\n",
       "    <tr>\n",
       "      <th>5</th>\n",
       "      <td>0000</td>\n",
       "      <td>Starter Prize</td>\n",
       "      <td>Sat</td>\n",
       "      <td>Oct</td>\n",
       "    </tr>\n",
       "    <tr>\n",
       "      <th>6</th>\n",
       "      <td>0000</td>\n",
       "      <td>Starter Prize</td>\n",
       "      <td>Sun</td>\n",
       "      <td>Jan</td>\n",
       "    </tr>\n",
       "    <tr>\n",
       "      <th>7</th>\n",
       "      <td>0000</td>\n",
       "      <td>Consolation Prize</td>\n",
       "      <td>Sat</td>\n",
       "      <td>Aug</td>\n",
       "    </tr>\n",
       "    <tr>\n",
       "      <th>8</th>\n",
       "      <td>0000</td>\n",
       "      <td>Consolation Prize</td>\n",
       "      <td>Sat</td>\n",
       "      <td>Jun</td>\n",
       "    </tr>\n",
       "    <tr>\n",
       "      <th>9</th>\n",
       "      <td>0000</td>\n",
       "      <td>Starter Prize</td>\n",
       "      <td>Sun</td>\n",
       "      <td>May</td>\n",
       "    </tr>\n",
       "  </tbody>\n",
       "</table>\n",
       "</div>"
      ],
      "text/plain": [
       "  number              prize day_of_week month\n",
       "0   0000  Consolation Prize         Wed   Jun\n",
       "1   0000  Consolation Prize         Sun   Feb\n",
       "2   0000  Consolation Prize         Wed   Jan\n",
       "3   0000        First Prize         Sun   Oct\n",
       "4   0000       Second Prize         Sat   Sep\n",
       "5   0000      Starter Prize         Sat   Oct\n",
       "6   0000      Starter Prize         Sun   Jan\n",
       "7   0000  Consolation Prize         Sat   Aug\n",
       "8   0000  Consolation Prize         Sat   Jun\n",
       "9   0000      Starter Prize         Sun   May"
      ]
     },
     "execution_count": 12,
     "metadata": {},
     "output_type": "execute_result"
    }
   ],
   "source": [
    "# Drop the redundant columns\n",
    "\n",
    "df = df.drop(['day', 'date'], axis=1)\n",
    "df.head(10)"
   ]
  },
  {
   "cell_type": "code",
   "execution_count": 13,
   "metadata": {},
   "outputs": [
    {
     "data": {
      "text/plain": [
       "6190    1\n",
       "7901    2\n",
       "6212    2\n",
       "2982    2\n",
       "0057    2\n",
       "8293    2\n",
       "5675    2\n",
       "6959    2\n",
       "6061    2\n",
       "7705    2\n",
       "0679    3\n",
       "7108    3\n",
       "7615    3\n",
       "2713    3\n",
       "8245    3\n",
       "3055    3\n",
       "6245    3\n",
       "7318    3\n",
       "0105    3\n",
       "3545    3\n",
       "Name: number, dtype: int64"
      ]
     },
     "execution_count": 13,
     "metadata": {},
     "output_type": "execute_result"
    }
   ],
   "source": [
    "# Return counts of unique numbers\n",
    "\n",
    "new_list = df['number'].value_counts().sort_values(ascending=True)\n",
    "new_list.head(20)"
   ]
  },
  {
   "cell_type": "code",
   "execution_count": 14,
   "metadata": {},
   "outputs": [
    {
     "data": {
      "text/plain": [
       "number         False\n",
       "prize          False\n",
       "day_of_week    False\n",
       "month          False\n",
       "dtype: bool"
      ]
     },
     "execution_count": 14,
     "metadata": {},
     "output_type": "execute_result"
    }
   ],
   "source": [
    "df.isna().any()"
   ]
  },
  {
   "cell_type": "code",
   "execution_count": 15,
   "metadata": {},
   "outputs": [
    {
     "name": "stdout",
     "output_type": "stream",
     "text": [
      "<class 'pandas.core.frame.DataFrame'>\n",
      "Int64Index: 110322 entries, 0 to 110338\n",
      "Data columns (total 4 columns):\n",
      " #   Column       Non-Null Count   Dtype \n",
      "---  ------       --------------   ----- \n",
      " 0   number       110322 non-null  object\n",
      " 1   prize        110322 non-null  object\n",
      " 2   day_of_week  110322 non-null  object\n",
      " 3   month        110322 non-null  object\n",
      "dtypes: object(4)\n",
      "memory usage: 4.2+ MB\n"
     ]
    }
   ],
   "source": [
    "df.info()"
   ]
  },
  {
   "cell_type": "code",
   "execution_count": 16,
   "metadata": {},
   "outputs": [
    {
     "data": {
      "image/png": "[encoded data removed]",
      "text/plain": [
       "<Figure size 432x288 with 1 Axes>"
      ]
     },
     "metadata": {
      "needs_background": "light"
     },
     "output_type": "display_data"
    }
   ],
   "source": [
    "s = df['number'].value_counts().nlargest(10)\n",
    "s.plot(kind='bar', width = 0.8, rot=0)\n",
    "\n",
    "plt.ylabel(\"No. of Times\")\n",
    "plt.title(\"Top 10 Frequently Drawn Numbers\")\n",
    "plt.show()"
   ]
  },
  {
   "cell_type": "code",
   "execution_count": 17,
   "metadata": {},
   "outputs": [
    {
     "data": {
      "image/png": "[encoded data removed]",
      "text/plain": [
       "<Figure size 432x288 with 1 Axes>"
      ]
     },
     "metadata": {
      "needs_background": "light"
     },
     "output_type": "display_data"
    }
   ],
   "source": [
    "t = df[df['prize'].isin(['First Prize'])]\n",
    "\n",
    "s = t['number'].value_counts().nlargest(10)\n",
    "s.plot(kind='bar', width = 0.8, rot=0)\n",
    "\n",
    "plt.ylabel(\"No. of Times\")\n",
    "plt.title(\"Top 10 First Prize\")\n",
    "plt.show()"
   ]
  },
  {
   "cell_type": "code",
   "execution_count": 18,
   "metadata": {},
   "outputs": [
    {
     "data": {
      "image/png": "[encoded data removed]",
      "text/plain": [
       "<Figure size 432x288 with 1 Axes>"
      ]
     },
     "metadata": {
      "needs_background": "light"
     },
     "output_type": "display_data"
    }
   ],
   "source": [
    "t = df[df['prize'].isin(['Second Prize'])]\n",
    "\n",
    "s = t['number'].value_counts().nlargest(10)\n",
    "s.plot(kind='bar', width = 0.8, rot=0)\n",
    "\n",
    "plt.ylabel(\"No. of Times\")\n",
    "plt.title(\"Top 10 Second Prize\")\n",
    "plt.show()"
   ]
  },
  {
   "cell_type": "code",
   "execution_count": 19,
   "metadata": {},
   "outputs": [
    {
     "data": {
      "image/png": "[encoded data removed]",
      "text/plain": [
       "<Figure size 432x288 with 1 Axes>"
      ]
     },
     "metadata": {
      "needs_background": "light"
     },
     "output_type": "display_data"
    }
   ],
   "source": [
    "t = df[df['prize'].isin(['Third Prize'])]\n",
    "\n",
    "s = t['number'].value_counts().nlargest(10)\n",
    "s.plot(kind='bar', width = 0.8, rot=0)\n",
    "\n",
    "plt.ylabel(\"No. of Times\")\n",
    "plt.title(\"Top 10 Third Prize\")\n",
    "plt.show()"
   ]
  },
  {
   "cell_type": "code",
   "execution_count": 20,
   "metadata": {},
   "outputs": [
    {
     "data": {
      "image/png": "[encoded data removed]",
      "text/plain": [
       "<Figure size 432x288 with 1 Axes>"
      ]
     },
     "metadata": {
      "needs_background": "light"
     },
     "output_type": "display_data"
    }
   ],
   "source": [
    "t = df[df['prize'].isin(['Starter Prize'])]\n",
    "\n",
    "s = t['number'].value_counts().nlargest(10)\n",
    "s.plot(kind='bar', width = 0.8, rot=0)\n",
    "\n",
    "plt.ylabel(\"No. of Times\")\n",
    "plt.title(\"Top 10 Starter Prize\")\n",
    "plt.show()"
   ]
  },
  {
   "cell_type": "code",
   "execution_count": 21,
   "metadata": {},
   "outputs": [
    {
     "data": {
      "image/png": "[encoded data removed]",
      "text/plain": [
       "<Figure size 432x288 with 1 Axes>"
      ]
     },
     "metadata": {
      "needs_background": "light"
     },
     "output_type": "display_data"
    }
   ],
   "source": [
    "t = df[df['prize'].isin(['Consolation Prize'])]\n",
    "\n",
    "s = t['number'].value_counts().nlargest(10)\n",
    "s.plot(kind='bar', width = 0.8, rot=0)\n",
    "\n",
    "plt.ylabel(\"No. of Times\")\n",
    "plt.title(\"Top 10 Consolation Prize\")\n",
    "plt.show()"
   ]
  },
  {
   "cell_type": "code",
   "execution_count": 22,
   "metadata": {},
   "outputs": [],
   "source": [
    "# Encode variables with more than 2 Classes\n",
    "\n",
    "df = pd.get_dummies(df, columns= ['prize', 'day_of_week', 'month'], drop_first=True)"
   ]
  },
  {
   "cell_type": "code",
   "execution_count": 23,
   "metadata": {},
   "outputs": [],
   "source": [
    "# Use last 3 digits as Class (from 10,000 classes reduced to 1,000 classes)\n",
    "\n",
    "df['num234'] = df['number'].str[1:4]"
   ]
  },
  {
   "cell_type": "code",
   "execution_count": 24,
   "metadata": {},
   "outputs": [
    {
     "data": {
      "text/html": [
       "<div>\n",
       "<style scoped>\n",
       "    .dataframe tbody tr th:only-of-type {\n",
       "        vertical-align: middle;\n",
       "    }\n",
       "\n",
       "    .dataframe tbody tr th {\n",
       "        vertical-align: top;\n",
       "    }\n",
       "\n",
       "    .dataframe thead th {\n",
       "        text-align: right;\n",
       "    }\n",
       "</style>\n",
       "<table border=\"1\" class=\"dataframe\">\n",
       "  <thead>\n",
       "    <tr style=\"text-align: right;\">\n",
       "      <th></th>\n",
       "      <th>prize_First Prize</th>\n",
       "      <th>prize_Second Prize</th>\n",
       "      <th>prize_Starter Prize</th>\n",
       "      <th>prize_Third Prize</th>\n",
       "      <th>day_of_week_Sun</th>\n",
       "      <th>day_of_week_Wed</th>\n",
       "      <th>month_Aug</th>\n",
       "      <th>month_Dec</th>\n",
       "      <th>month_Feb</th>\n",
       "      <th>month_Jan</th>\n",
       "      <th>month_Jul</th>\n",
       "      <th>month_Jun</th>\n",
       "      <th>month_Mar</th>\n",
       "      <th>month_May</th>\n",
       "      <th>month_Nov</th>\n",
       "      <th>month_Oct</th>\n",
       "      <th>month_Sep</th>\n",
       "      <th>num234</th>\n",
       "    </tr>\n",
       "  </thead>\n",
       "  <tbody>\n",
       "    <tr>\n",
       "      <th>0</th>\n",
       "      <td>0</td>\n",
       "      <td>0</td>\n",
       "      <td>0</td>\n",
       "      <td>0</td>\n",
       "      <td>0</td>\n",
       "      <td>1</td>\n",
       "      <td>0</td>\n",
       "      <td>0</td>\n",
       "      <td>0</td>\n",
       "      <td>0</td>\n",
       "      <td>0</td>\n",
       "      <td>1</td>\n",
       "      <td>0</td>\n",
       "      <td>0</td>\n",
       "      <td>0</td>\n",
       "      <td>0</td>\n",
       "      <td>0</td>\n",
       "      <td>000</td>\n",
       "    </tr>\n",
       "    <tr>\n",
       "      <th>1</th>\n",
       "      <td>0</td>\n",
       "      <td>0</td>\n",
       "      <td>0</td>\n",
       "      <td>0</td>\n",
       "      <td>1</td>\n",
       "      <td>0</td>\n",
       "      <td>0</td>\n",
       "      <td>0</td>\n",
       "      <td>1</td>\n",
       "      <td>0</td>\n",
       "      <td>0</td>\n",
       "      <td>0</td>\n",
       "      <td>0</td>\n",
       "      <td>0</td>\n",
       "      <td>0</td>\n",
       "      <td>0</td>\n",
       "      <td>0</td>\n",
       "      <td>000</td>\n",
       "    </tr>\n",
       "    <tr>\n",
       "      <th>2</th>\n",
       "      <td>0</td>\n",
       "      <td>0</td>\n",
       "      <td>0</td>\n",
       "      <td>0</td>\n",
       "      <td>0</td>\n",
       "      <td>1</td>\n",
       "      <td>0</td>\n",
       "      <td>0</td>\n",
       "      <td>0</td>\n",
       "      <td>1</td>\n",
       "      <td>0</td>\n",
       "      <td>0</td>\n",
       "      <td>0</td>\n",
       "      <td>0</td>\n",
       "      <td>0</td>\n",
       "      <td>0</td>\n",
       "      <td>0</td>\n",
       "      <td>000</td>\n",
       "    </tr>\n",
       "    <tr>\n",
       "      <th>3</th>\n",
       "      <td>1</td>\n",
       "      <td>0</td>\n",
       "      <td>0</td>\n",
       "      <td>0</td>\n",
       "      <td>1</td>\n",
       "      <td>0</td>\n",
       "      <td>0</td>\n",
       "      <td>0</td>\n",
       "      <td>0</td>\n",
       "      <td>0</td>\n",
       "      <td>0</td>\n",
       "      <td>0</td>\n",
       "      <td>0</td>\n",
       "      <td>0</td>\n",
       "      <td>0</td>\n",
       "      <td>1</td>\n",
       "      <td>0</td>\n",
       "      <td>000</td>\n",
       "    </tr>\n",
       "    <tr>\n",
       "      <th>4</th>\n",
       "      <td>0</td>\n",
       "      <td>1</td>\n",
       "      <td>0</td>\n",
       "      <td>0</td>\n",
       "      <td>0</td>\n",
       "      <td>0</td>\n",
       "      <td>0</td>\n",
       "      <td>0</td>\n",
       "      <td>0</td>\n",
       "      <td>0</td>\n",
       "      <td>0</td>\n",
       "      <td>0</td>\n",
       "      <td>0</td>\n",
       "      <td>0</td>\n",
       "      <td>0</td>\n",
       "      <td>0</td>\n",
       "      <td>1</td>\n",
       "      <td>000</td>\n",
       "    </tr>\n",
       "    <tr>\n",
       "      <th>5</th>\n",
       "      <td>0</td>\n",
       "      <td>0</td>\n",
       "      <td>1</td>\n",
       "      <td>0</td>\n",
       "      <td>0</td>\n",
       "      <td>0</td>\n",
       "      <td>0</td>\n",
       "      <td>0</td>\n",
       "      <td>0</td>\n",
       "      <td>0</td>\n",
       "      <td>0</td>\n",
       "      <td>0</td>\n",
       "      <td>0</td>\n",
       "      <td>0</td>\n",
       "      <td>0</td>\n",
       "      <td>1</td>\n",
       "      <td>0</td>\n",
       "      <td>000</td>\n",
       "    </tr>\n",
       "    <tr>\n",
       "      <th>6</th>\n",
       "      <td>0</td>\n",
       "      <td>0</td>\n",
       "      <td>1</td>\n",
       "      <td>0</td>\n",
       "      <td>1</td>\n",
       "      <td>0</td>\n",
       "      <td>0</td>\n",
       "      <td>0</td>\n",
       "      <td>0</td>\n",
       "      <td>1</td>\n",
       "      <td>0</td>\n",
       "      <td>0</td>\n",
       "      <td>0</td>\n",
       "      <td>0</td>\n",
       "      <td>0</td>\n",
       "      <td>0</td>\n",
       "      <td>0</td>\n",
       "      <td>000</td>\n",
       "    </tr>\n",
       "    <tr>\n",
       "      <th>7</th>\n",
       "      <td>0</td>\n",
       "      <td>0</td>\n",
       "      <td>0</td>\n",
       "      <td>0</td>\n",
       "      <td>0</td>\n",
       "      <td>0</td>\n",
       "      <td>1</td>\n",
       "      <td>0</td>\n",
       "      <td>0</td>\n",
       "      <td>0</td>\n",
       "      <td>0</td>\n",
       "      <td>0</td>\n",
       "      <td>0</td>\n",
       "      <td>0</td>\n",
       "      <td>0</td>\n",
       "      <td>0</td>\n",
       "      <td>0</td>\n",
       "      <td>000</td>\n",
       "    </tr>\n",
       "    <tr>\n",
       "      <th>8</th>\n",
       "      <td>0</td>\n",
       "      <td>0</td>\n",
       "      <td>0</td>\n",
       "      <td>0</td>\n",
       "      <td>0</td>\n",
       "      <td>0</td>\n",
       "      <td>0</td>\n",
       "      <td>0</td>\n",
       "      <td>0</td>\n",
       "      <td>0</td>\n",
       "      <td>0</td>\n",
       "      <td>1</td>\n",
       "      <td>0</td>\n",
       "      <td>0</td>\n",
       "      <td>0</td>\n",
       "      <td>0</td>\n",
       "      <td>0</td>\n",
       "      <td>000</td>\n",
       "    </tr>\n",
       "    <tr>\n",
       "      <th>9</th>\n",
       "      <td>0</td>\n",
       "      <td>0</td>\n",
       "      <td>1</td>\n",
       "      <td>0</td>\n",
       "      <td>1</td>\n",
       "      <td>0</td>\n",
       "      <td>0</td>\n",
       "      <td>0</td>\n",
       "      <td>0</td>\n",
       "      <td>0</td>\n",
       "      <td>0</td>\n",
       "      <td>0</td>\n",
       "      <td>0</td>\n",
       "      <td>1</td>\n",
       "      <td>0</td>\n",
       "      <td>0</td>\n",
       "      <td>0</td>\n",
       "      <td>000</td>\n",
       "    </tr>\n",
       "  </tbody>\n",
       "</table>\n",
       "</div>"
      ],
      "text/plain": [
       "   prize_First Prize  prize_Second Prize  prize_Starter Prize  \\\n",
       "0                  0                   0                    0   \n",
       "1                  0                   0                    0   \n",
       "2                  0                   0                    0   \n",
       "3                  1                   0                    0   \n",
       "4                  0                   1                    0   \n",
       "5                  0                   0                    1   \n",
       "6                  0                   0                    1   \n",
       "7                  0                   0                    0   \n",
       "8                  0                   0                    0   \n",
       "9                  0                   0                    1   \n",
       "\n",
       "   prize_Third Prize  day_of_week_Sun  day_of_week_Wed  month_Aug  month_Dec  \\\n",
       "0                  0                0                1          0          0   \n",
       "1                  0                1                0          0          0   \n",
       "2                  0                0                1          0          0   \n",
       "3                  0                1                0          0          0   \n",
       "4                  0                0                0          0          0   \n",
       "5                  0                0                0          0          0   \n",
       "6                  0                1                0          0          0   \n",
       "7                  0                0                0          1          0   \n",
       "8                  0                0                0          0          0   \n",
       "9                  0                1                0          0          0   \n",
       "\n",
       "   month_Feb  month_Jan  month_Jul  month_Jun  month_Mar  month_May  \\\n",
       "0          0          0          0          1          0          0   \n",
       "1          1          0          0          0          0          0   \n",
       "2          0          1          0          0          0          0   \n",
       "3          0          0          0          0          0          0   \n",
       "4          0          0          0          0          0          0   \n",
       "5          0          0          0          0          0          0   \n",
       "6          0          1          0          0          0          0   \n",
       "7          0          0          0          0          0          0   \n",
       "8          0          0          0          1          0          0   \n",
       "9          0          0          0          0          0          1   \n",
       "\n",
       "   month_Nov  month_Oct  month_Sep num234  \n",
       "0          0          0          0    000  \n",
       "1          0          0          0    000  \n",
       "2          0          0          0    000  \n",
       "3          0          1          0    000  \n",
       "4          0          0          1    000  \n",
       "5          0          1          0    000  \n",
       "6          0          0          0    000  \n",
       "7          0          0          0    000  \n",
       "8          0          0          0    000  \n",
       "9          0          0          0    000  "
      ]
     },
     "execution_count": 24,
     "metadata": {},
     "output_type": "execute_result"
    }
   ],
   "source": [
    "df = df.drop(['number'], axis=1)\n",
    "df.head(10)"
   ]
  },
  {
   "cell_type": "code",
   "execution_count": 25,
   "metadata": {},
   "outputs": [],
   "source": [
    "# Convert 'num234' from string to numeric type\n",
    "\n",
    "df['num234'] = pd.to_numeric(df['num234'])"
   ]
  },
  {
   "cell_type": "code",
   "execution_count": 26,
   "metadata": {},
   "outputs": [
    {
     "name": "stdout",
     "output_type": "stream",
     "text": [
      "<class 'pandas.core.frame.DataFrame'>\n",
      "Int64Index: 110322 entries, 0 to 110338\n",
      "Data columns (total 18 columns):\n",
      " #   Column               Non-Null Count   Dtype\n",
      "---  ------               --------------   -----\n",
      " 0   prize_First Prize    110322 non-null  uint8\n",
      " 1   prize_Second Prize   110322 non-null  uint8\n",
      " 2   prize_Starter Prize  110322 non-null  uint8\n",
      " 3   prize_Third Prize    110322 non-null  uint8\n",
      " 4   day_of_week_Sun      110322 non-null  uint8\n",
      " 5   day_of_week_Wed      110322 non-null  uint8\n",
      " 6   month_Aug            110322 non-null  uint8\n",
      " 7   month_Dec            110322 non-null  uint8\n",
      " 8   month_Feb            110322 non-null  uint8\n",
      " 9   month_Jan            110322 non-null  uint8\n",
      " 10  month_Jul            110322 non-null  uint8\n",
      " 11  month_Jun            110322 non-null  uint8\n",
      " 12  month_Mar            110322 non-null  uint8\n",
      " 13  month_May            110322 non-null  uint8\n",
      " 14  month_Nov            110322 non-null  uint8\n",
      " 15  month_Oct            110322 non-null  uint8\n",
      " 16  month_Sep            110322 non-null  uint8\n",
      " 17  num234               110322 non-null  int64\n",
      "dtypes: int64(1), uint8(17)\n",
      "memory usage: 3.5 MB\n"
     ]
    }
   ],
   "source": [
    "df.info()"
   ]
  },
  {
   "cell_type": "markdown",
   "metadata": {},
   "source": [
    "### Step 3: Split the data and train the models"
   ]
  },
  {
   "cell_type": "code",
   "execution_count": 27,
   "metadata": {},
   "outputs": [],
   "source": [
    "X=df.drop('num234',axis=1)\n",
    "y=df['num234']\n",
    "\n",
    "# Split the Data\n",
    "X_train, X_test, y_train, y_test = train_test_split(X, y, test_size = 0.25, random_state = SEED)"
   ]
  },
  {
   "cell_type": "markdown",
   "metadata": {},
   "source": [
    "#### Feature scaling"
   ]
  },
  {
   "cell_type": "code",
   "execution_count": 28,
   "metadata": {},
   "outputs": [],
   "source": [
    "from sklearn.preprocessing import StandardScaler\n",
    "\n",
    "scaler = StandardScaler()\n",
    "\n",
    "# Fit only to the training data\n",
    "scaler.fit(X_train)\n",
    "\n",
    "StandardScaler(copy=True, with_mean=True, with_std=True)\n",
    "\n",
    "# Now apply the transformations to the data:\n",
    "X_train_scaled = scaler.transform(X_train)\n",
    "X_test_scaled = scaler.transform(X_test)"
   ]
  },
  {
   "cell_type": "markdown",
   "metadata": {},
   "source": [
    "#### Baseline model using Logistic Regression"
   ]
  },
  {
   "cell_type": "code",
   "execution_count": 29,
   "metadata": {},
   "outputs": [],
   "source": [
    "logreg = LogisticRegression()"
   ]
  },
  {
   "cell_type": "code",
   "execution_count": 30,
   "metadata": {},
   "outputs": [
    {
     "name": "stdout",
     "output_type": "stream",
     "text": [
      "F1 scores: [0.0001304  0.00020727 0.00018656 0.00030473 0.00016056]\n",
      "Mean & standard deviation: 0.0002 0.00\n",
      "Wall time: 26min 2s\n"
     ]
    }
   ],
   "source": [
    "%%time\n",
    "# K-fold cross validation using F1-score as scorer\n",
    "scores = cross_val_score(logreg, \n",
    "                         X_train_scaled, \n",
    "                         y_train, \n",
    "                         cv=5, \n",
    "                         scoring='f1_macro')\n",
    "print('F1 scores:', scores)\n",
    "print('Mean & standard deviation: {:.2} {:.2f}'.format(scores.mean(), np.std(scores)))"
   ]
  },
  {
   "cell_type": "code",
   "execution_count": null,
   "metadata": {},
   "outputs": [],
   "source": []
  }
 ],
 "metadata": {
  "kernelspec": {
   "display_name": "Python 3",
   "language": "python",
   "name": "python3"
  },
  "language_info": {
   "codemirror_mode": {
    "name": "ipython",
    "version": 3
   },
   "file_extension": ".py",
   "mimetype": "text/x-python",
   "name": "python",
   "nbconvert_exporter": "python",
   "pygments_lexer": "ipython3",
   "version": "3.8.5"
  }
 },
 "nbformat": 4,
 "nbformat_minor": 2
}
